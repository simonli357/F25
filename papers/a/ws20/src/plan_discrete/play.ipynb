{
    "cells": [
        {
            "cell_type": "code",
            "execution_count": 1,
            "source": [
                "import rospy\n",
                "from nav_msgs.msg import OccupancyGrid, Odometry\n",
                "import numpy as np\n",
                "import matplotlib.pyplot as plt"
            ],
            "outputs": [],
            "metadata": {}
        },
        {
            "cell_type": "code",
            "execution_count": 2,
            "source": [
                "def callback(data):\n",
                "    occ = np.array(data.data).reshape(data.info.height, data.info.width)\n",
                "    np.save('occupancy.npy', occ)\n",
                "    # print('asdf')\n",
                "\n",
                "def callback2(data):\n",
                "    # occ = np.array(data.data).reshape(data.info.height, data.info.width)\n",
                "    # np.save('occupancy.npy', occ)\n",
                "    print('fdsa')\n",
                "\n",
                "\n",
                "    # In ROS, nodes are uniquely named. If two nodes with the same\n",
                "    # name are launched, the previous one is kicked off. The\n",
                "    # anonymous=True flag means that rospy will choose a unique\n",
                "    # name for our 'listener' node so that multiple listeners can\n",
                "    # run simultaneously.\n",
                "\n",
                "rospy.init_node('listener', anonymous=True)\n",
                "# rospy.Subscriber('t265/odom/sample', Odometry, callback2)\n",
                "rospy.Subscriber('occupancy', OccupancyGrid, callback)\n",
                "\n",
                "# print('haha')\n",
                "\n",
                "# spin() simply keeps python from exiting until this node is stopped\n",
                "# rospy.spin()"
            ],
            "outputs": [
                {
                    "output_type": "execute_result",
                    "data": {
                        "text/plain": [
                            "<rospy.topics.Subscriber at 0x7fb6b6d28220>"
                        ]
                    },
                    "metadata": {},
                    "execution_count": 2
                }
            ],
            "metadata": {}
        },
        {
            "cell_type": "code",
            "execution_count": 3,
            "source": [
                "listener()"
            ],
            "outputs": [
                {
                    "output_type": "error",
                    "ename": "NameError",
                    "evalue": "name 'listener' is not defined",
                    "traceback": [
                        "\u001b[0;31m---------------------------------------------------------------------------\u001b[0m",
                        "\u001b[0;31mNameError\u001b[0m                                 Traceback (most recent call last)",
                        "\u001b[0;32m/tmp/ipykernel_14896/3579415228.py\u001b[0m in \u001b[0;36m<module>\u001b[0;34m\u001b[0m\n\u001b[0;32m----> 1\u001b[0;31m \u001b[0mlistener\u001b[0m\u001b[0;34m(\u001b[0m\u001b[0;34m)\u001b[0m\u001b[0;34m\u001b[0m\u001b[0;34m\u001b[0m\u001b[0m\n\u001b[0m",
                        "\u001b[0;31mNameError\u001b[0m: name 'listener' is not defined"
                    ]
                }
            ],
            "metadata": {}
        },
        {
            "cell_type": "code",
            "execution_count": 4,
            "source": [
                "occ = np.load('occupancy.npy')\n",
                "occ2 = np.copy(occ)\n",
                "occ2[occ2 == -1] = 0"
            ],
            "outputs": [],
            "metadata": {}
        },
        {
            "cell_type": "code",
            "execution_count": 5,
            "source": [
                "from scipy.ndimage import gaussian_filter\n",
                "\n",
                "plt.imshow(occ2, cmap='Blues', origin='lower')"
            ],
            "outputs": [
                {
                    "output_type": "execute_result",
                    "data": {
                        "text/plain": [
                            "<matplotlib.image.AxesImage at 0x7fb64c87bd90>"
                        ]
                    },
                    "metadata": {},
                    "execution_count": 5
                },
                {
                    "output_type": "display_data",
                    "data": {
                        "image/png": "[encoded data removed]",
                        "image/svg+xml": "<?xml version=\"1.0\" encoding=\"utf-8\" standalone=\"no\"?>\n<!DOCTYPE svg PUBLIC \"-//W3C//DTD SVG 1.1//EN\"\n  \"http://www.w3.org/Graphics/SVG/1.1/DTD/svg11.dtd\">\n<svg height=\"250.975122pt\" version=\"1.1\" viewBox=\"0 0 211.298333 250.975122\" width=\"211.298333pt\" xmlns=\"http://www.w3.org/2000/svg\" xmlns:xlink=\"http://www.w3.org/1999/xlink\">\n <metadata>\n  <rdf:RDF xmlns:cc=\"http://creativecommons.org/ns#\" xmlns:dc=\"http://purl.org/dc/elements/1.1/\" xmlns:rdf=\"http://www.w3.org/1999/02/22-rdf-syntax-ns#\">\n   <cc:Work>\n    <dc:type rdf:resource=\"http://purl.org/dc/dcmitype/StillImage\"/>\n    <dc:date>2021-09-30T05:00:41.202533</dc:date>\n    <dc:format>image/svg+xml</dc:format>\n    <dc:creator>\n     <cc:Agent>\n      <dc:title>Matplotlib v3.4.2, https://matplotlib.org/</dc:title>\n     </cc:Agent>\n    </dc:creator>\n   </cc:Work>\n  </rdf:RDF>\n </metadata>\n <defs>\n  <style type=\"text/css\">*{stroke-linecap:butt;stroke-linejoin:round;}</style>\n </defs>\n <g id=\"figure_1\">\n  <g id=\"patch_1\">\n   <path d=\"M 0 250.975122 \nL 211.298333 250.975122 \nL 211.298333 0 \nL 0 0 \nz\n\" style=\"fill:none;\"/>\n  </g>\n  <g id=\"axes_1\">\n   <g id=\"patch_2\">\n    <path d=\"M 26.925 227.096997 \nL 204.098333 227.096997 \nL 204.098333 9.656997 \nL 26.925 9.656997 \nz\n\" style=\"fill:#ffffff;\"/>\n   </g>\n   <g clip-path=\"url(#pe42ee297fb)\">\n    <image height=\"218\" id=\"imagee25e19b926\" transform=\"scale(1 -1)translate(0 -218)\" width=\"178\" x=\"26.925\" xlink:href=\"data:image/png;base64,\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\" y=\"-9.096997\"/>\n   </g>\n   <g id=\"matplotlib.axis_1\">\n    <g id=\"xtick_1\">\n     <g id=\"line2d_1\">\n      <defs>\n       <path d=\"M 0 0 \nL 0 3.5 \n\" id=\"me2bdb599c8\" style=\"stroke:#000000;stroke-width:0.8;\"/>\n      </defs>\n      <g>\n       <use style=\"stroke:#000000;stroke-width:0.8;\" x=\"28.267222\" xlink:href=\"#me2bdb599c8\" y=\"227.096997\"/>\n      </g>\n     </g>\n     <g id=\"text_1\">\n      <!-- 0 -->\n      <g transform=\"translate(25.085972 241.695434)scale(0.1 -0.1)\">\n       <defs>\n        <path d=\"M 2034 4250 \nQ 1547 4250 1301 3770 \nQ 1056 3291 1056 2328 \nQ 1056 1369 1301 889 \nQ 1547 409 2034 409 \nQ 2525 409 2770 889 \nQ 3016 1369 3016 2328 \nQ 3016 3291 2770 3770 \nQ 2525 4250 2034 4250 \nz\nM 2034 4750 \nQ 2819 4750 3233 4129 \nQ 3647 3509 3647 2328 \nQ 3647 1150 3233 529 \nQ 2819 -91 2034 -91 \nQ 1250 -91 836 529 \nQ 422 1150 422 2328 \nQ 422 3509 836 4129 \nQ 1250 4750 2034 4750 \nz\n\" id=\"DejaVuSans-30\" transform=\"scale(0.015625)\"/>\n       </defs>\n       <use xlink:href=\"#DejaVuSans-30\"/>\n      </g>\n     </g>\n    </g>\n    <g id=\"xtick_2\">\n     <g id=\"line2d_2\">\n      <g>\n       <use style=\"stroke:#000000;stroke-width:0.8;\" x=\"81.956111\" xlink:href=\"#me2bdb599c8\" y=\"227.096997\"/>\n      </g>\n     </g>\n     <g id=\"text_2\">\n      <!-- 20 -->\n      <g transform=\"translate(75.593611 241.695434)scale(0.1 -0.1)\">\n       <defs>\n        <path d=\"M 1228 531 \nL 3431 531 \nL 3431 0 \nL 469 0 \nL 469 531 \nQ 828 903 1448 1529 \nQ 2069 2156 2228 2338 \nQ 2531 2678 2651 2914 \nQ 2772 3150 2772 3378 \nQ 2772 3750 2511 3984 \nQ 2250 4219 1831 4219 \nQ 1534 4219 1204 4116 \nQ 875 4013 500 3803 \nL 500 4441 \nQ 881 4594 1212 4672 \nQ 1544 4750 1819 4750 \nQ 2544 4750 2975 4387 \nQ 3406 4025 3406 3419 \nQ 3406 3131 3298 2873 \nQ 3191 2616 2906 2266 \nQ 2828 2175 2409 1742 \nQ 1991 1309 1228 531 \nz\n\" id=\"DejaVuSans-32\" transform=\"scale(0.015625)\"/>\n       </defs>\n       <use xlink:href=\"#DejaVuSans-32\"/>\n       <use x=\"63.623047\" xlink:href=\"#DejaVuSans-30\"/>\n      </g>\n     </g>\n    </g>\n    <g id=\"xtick_3\">\n     <g id=\"line2d_3\">\n      <g>\n       <use style=\"stroke:#000000;stroke-width:0.8;\" x=\"135.645\" xlink:href=\"#me2bdb599c8\" y=\"227.096997\"/>\n      </g>\n     </g>\n     <g id=\"text_3\">\n      <!-- 40 -->\n      <g transform=\"translate(129.2825 241.695434)scale(0.1 -0.1)\">\n       <defs>\n        <path d=\"M 2419 4116 \nL 825 1625 \nL 2419 1625 \nL 2419 4116 \nz\nM 2253 4666 \nL 3047 4666 \nL 3047 1625 \nL 3713 1625 \nL 3713 1100 \nL 3047 1100 \nL 3047 0 \nL 2419 0 \nL 2419 1100 \nL 313 1100 \nL 313 1709 \nL 2253 4666 \nz\n\" id=\"DejaVuSans-34\" transform=\"scale(0.015625)\"/>\n       </defs>\n       <use xlink:href=\"#DejaVuSans-34\"/>\n       <use x=\"63.623047\" xlink:href=\"#DejaVuSans-30\"/>\n      </g>\n     </g>\n    </g>\n    <g id=\"xtick_4\">\n     <g id=\"line2d_4\">\n      <g>\n       <use style=\"stroke:#000000;stroke-width:0.8;\" x=\"189.333889\" xlink:href=\"#me2bdb599c8\" y=\"227.096997\"/>\n      </g>\n     </g>\n     <g id=\"text_4\">\n      <!-- 60 -->\n      <g transform=\"translate(182.971389 241.695434)scale(0.1 -0.1)\">\n       <defs>\n        <path d=\"M 2113 2584 \nQ 1688 2584 1439 2293 \nQ 1191 2003 1191 1497 \nQ 1191 994 1439 701 \nQ 1688 409 2113 409 \nQ 2538 409 2786 701 \nQ 3034 994 3034 1497 \nQ 3034 2003 2786 2293 \nQ 2538 2584 2113 2584 \nz\nM 3366 4563 \nL 3366 3988 \nQ 3128 4100 2886 4159 \nQ 2644 4219 2406 4219 \nQ 1781 4219 1451 3797 \nQ 1122 3375 1075 2522 \nQ 1259 2794 1537 2939 \nQ 1816 3084 2150 3084 \nQ 2853 3084 3261 2657 \nQ 3669 2231 3669 1497 \nQ 3669 778 3244 343 \nQ 2819 -91 2113 -91 \nQ 1303 -91 875 529 \nQ 447 1150 447 2328 \nQ 447 3434 972 4092 \nQ 1497 4750 2381 4750 \nQ 2619 4750 2861 4703 \nQ 3103 4656 3366 4563 \nz\n\" id=\"DejaVuSans-36\" transform=\"scale(0.015625)\"/>\n       </defs>\n       <use xlink:href=\"#DejaVuSans-36\"/>\n       <use x=\"63.623047\" xlink:href=\"#DejaVuSans-30\"/>\n      </g>\n     </g>\n    </g>\n   </g>\n   <g id=\"matplotlib.axis_2\">\n    <g id=\"ytick_1\">\n     <g id=\"line2d_5\">\n      <defs>\n       <path d=\"M 0 0 \nL -3.5 0 \n\" id=\"m5fc5a30769\" style=\"stroke:#000000;stroke-width:0.8;\"/>\n      </defs>\n      <g>\n       <use style=\"stroke:#000000;stroke-width:0.8;\" x=\"26.925\" xlink:href=\"#m5fc5a30769\" y=\"225.754774\"/>\n      </g>\n     </g>\n     <g id=\"text_5\">\n      <!-- 0 -->\n      <g transform=\"translate(13.5625 229.553993)scale(0.1 -0.1)\">\n       <use xlink:href=\"#DejaVuSans-30\"/>\n      </g>\n     </g>\n    </g>\n    <g id=\"ytick_2\">\n     <g id=\"line2d_6\">\n      <g>\n       <use style=\"stroke:#000000;stroke-width:0.8;\" x=\"26.925\" xlink:href=\"#m5fc5a30769\" y=\"198.91033\"/>\n      </g>\n     </g>\n     <g id=\"text_6\">\n      <!-- 10 -->\n      <g transform=\"translate(7.2 202.709549)scale(0.1 -0.1)\">\n       <defs>\n        <path d=\"M 794 531 \nL 1825 531 \nL 1825 4091 \nL 703 3866 \nL 703 4441 \nL 1819 4666 \nL 2450 4666 \nL 2450 531 \nL 3481 531 \nL 3481 0 \nL 794 0 \nL 794 531 \nz\n\" id=\"DejaVuSans-31\" transform=\"scale(0.015625)\"/>\n       </defs>\n       <use xlink:href=\"#DejaVuSans-31\"/>\n       <use x=\"63.623047\" xlink:href=\"#DejaVuSans-30\"/>\n      </g>\n     </g>\n    </g>\n    <g id=\"ytick_3\">\n     <g id=\"line2d_7\">\n      <g>\n       <use style=\"stroke:#000000;stroke-width:0.8;\" x=\"26.925\" xlink:href=\"#m5fc5a30769\" y=\"172.065885\"/>\n      </g>\n     </g>\n     <g id=\"text_7\">\n      <!-- 20 -->\n      <g transform=\"translate(7.2 175.865104)scale(0.1 -0.1)\">\n       <use xlink:href=\"#DejaVuSans-32\"/>\n       <use x=\"63.623047\" xlink:href=\"#DejaVuSans-30\"/>\n      </g>\n     </g>\n    </g>\n    <g id=\"ytick_4\">\n     <g id=\"line2d_8\">\n      <g>\n       <use style=\"stroke:#000000;stroke-width:0.8;\" x=\"26.925\" xlink:href=\"#m5fc5a30769\" y=\"145.221441\"/>\n      </g>\n     </g>\n     <g id=\"text_8\">\n      <!-- 30 -->\n      <g transform=\"translate(7.2 149.02066)scale(0.1 -0.1)\">\n       <defs>\n        <path d=\"M 2597 2516 \nQ 3050 2419 3304 2112 \nQ 3559 1806 3559 1356 \nQ 3559 666 3084 287 \nQ 2609 -91 1734 -91 \nQ 1441 -91 1130 -33 \nQ 819 25 488 141 \nL 488 750 \nQ 750 597 1062 519 \nQ 1375 441 1716 441 \nQ 2309 441 2620 675 \nQ 2931 909 2931 1356 \nQ 2931 1769 2642 2001 \nQ 2353 2234 1838 2234 \nL 1294 2234 \nL 1294 2753 \nL 1863 2753 \nQ 2328 2753 2575 2939 \nQ 2822 3125 2822 3475 \nQ 2822 3834 2567 4026 \nQ 2313 4219 1838 4219 \nQ 1578 4219 1281 4162 \nQ 984 4106 628 3988 \nL 628 4550 \nQ 988 4650 1302 4700 \nQ 1616 4750 1894 4750 \nQ 2613 4750 3031 4423 \nQ 3450 4097 3450 3541 \nQ 3450 3153 3228 2886 \nQ 3006 2619 2597 2516 \nz\n\" id=\"DejaVuSans-33\" transform=\"scale(0.015625)\"/>\n       </defs>\n       <use xlink:href=\"#DejaVuSans-33\"/>\n       <use x=\"63.623047\" xlink:href=\"#DejaVuSans-30\"/>\n      </g>\n     </g>\n    </g>\n    <g id=\"ytick_5\">\n     <g id=\"line2d_9\">\n      <g>\n       <use style=\"stroke:#000000;stroke-width:0.8;\" x=\"26.925\" xlink:href=\"#m5fc5a30769\" y=\"118.376997\"/>\n      </g>\n     </g>\n     <g id=\"text_9\">\n      <!-- 40 -->\n      <g transform=\"translate(7.2 122.176215)scale(0.1 -0.1)\">\n       <use xlink:href=\"#DejaVuSans-34\"/>\n       <use x=\"63.623047\" xlink:href=\"#DejaVuSans-30\"/>\n      </g>\n     </g>\n    </g>\n    <g id=\"ytick_6\">\n     <g id=\"line2d_10\">\n      <g>\n       <use style=\"stroke:#000000;stroke-width:0.8;\" x=\"26.925\" xlink:href=\"#m5fc5a30769\" y=\"91.532552\"/>\n      </g>\n     </g>\n     <g id=\"text_10\">\n      <!-- 50 -->\n      <g transform=\"translate(7.2 95.331771)scale(0.1 -0.1)\">\n       <defs>\n        <path d=\"M 691 4666 \nL 3169 4666 \nL 3169 4134 \nL 1269 4134 \nL 1269 2991 \nQ 1406 3038 1543 3061 \nQ 1681 3084 1819 3084 \nQ 2600 3084 3056 2656 \nQ 3513 2228 3513 1497 \nQ 3513 744 3044 326 \nQ 2575 -91 1722 -91 \nQ 1428 -91 1123 -41 \nQ 819 9 494 109 \nL 494 744 \nQ 775 591 1075 516 \nQ 1375 441 1709 441 \nQ 2250 441 2565 725 \nQ 2881 1009 2881 1497 \nQ 2881 1984 2565 2268 \nQ 2250 2553 1709 2553 \nQ 1456 2553 1204 2497 \nQ 953 2441 691 2322 \nL 691 4666 \nz\n\" id=\"DejaVuSans-35\" transform=\"scale(0.015625)\"/>\n       </defs>\n       <use xlink:href=\"#DejaVuSans-35\"/>\n       <use x=\"63.623047\" xlink:href=\"#DejaVuSans-30\"/>\n      </g>\n     </g>\n    </g>\n    <g id=\"ytick_7\">\n     <g id=\"line2d_11\">\n      <g>\n       <use style=\"stroke:#000000;stroke-width:0.8;\" x=\"26.925\" xlink:href=\"#m5fc5a30769\" y=\"64.688108\"/>\n      </g>\n     </g>\n     <g id=\"text_11\">\n      <!-- 60 -->\n      <g transform=\"translate(7.2 68.487326)scale(0.1 -0.1)\">\n       <use xlink:href=\"#DejaVuSans-36\"/>\n       <use x=\"63.623047\" xlink:href=\"#DejaVuSans-30\"/>\n      </g>\n     </g>\n    </g>\n    <g id=\"ytick_8\">\n     <g id=\"line2d_12\">\n      <g>\n       <use style=\"stroke:#000000;stroke-width:0.8;\" x=\"26.925\" xlink:href=\"#m5fc5a30769\" y=\"37.843663\"/>\n      </g>\n     </g>\n     <g id=\"text_12\">\n      <!-- 70 -->\n      <g transform=\"translate(7.2 41.642882)scale(0.1 -0.1)\">\n       <defs>\n        <path d=\"M 525 4666 \nL 3525 4666 \nL 3525 4397 \nL 1831 0 \nL 1172 0 \nL 2766 4134 \nL 525 4134 \nL 525 4666 \nz\n\" id=\"DejaVuSans-37\" transform=\"scale(0.015625)\"/>\n       </defs>\n       <use xlink:href=\"#DejaVuSans-37\"/>\n       <use x=\"63.623047\" xlink:href=\"#DejaVuSans-30\"/>\n      </g>\n     </g>\n    </g>\n    <g id=\"ytick_9\">\n     <g id=\"line2d_13\">\n      <g>\n       <use style=\"stroke:#000000;stroke-width:0.8;\" x=\"26.925\" xlink:href=\"#m5fc5a30769\" y=\"10.999219\"/>\n      </g>\n     </g>\n     <g id=\"text_13\">\n      <!-- 80 -->\n      <g transform=\"translate(7.2 14.798437)scale(0.1 -0.1)\">\n       <defs>\n        <path d=\"M 2034 2216 \nQ 1584 2216 1326 1975 \nQ 1069 1734 1069 1313 \nQ 1069 891 1326 650 \nQ 1584 409 2034 409 \nQ 2484 409 2743 651 \nQ 3003 894 3003 1313 \nQ 3003 1734 2745 1975 \nQ 2488 2216 2034 2216 \nz\nM 1403 2484 \nQ 997 2584 770 2862 \nQ 544 3141 544 3541 \nQ 544 4100 942 4425 \nQ 1341 4750 2034 4750 \nQ 2731 4750 3128 4425 \nQ 3525 4100 3525 3541 \nQ 3525 3141 3298 2862 \nQ 3072 2584 2669 2484 \nQ 3125 2378 3379 2068 \nQ 3634 1759 3634 1313 \nQ 3634 634 3220 271 \nQ 2806 -91 2034 -91 \nQ 1263 -91 848 271 \nQ 434 634 434 1313 \nQ 434 1759 690 2068 \nQ 947 2378 1403 2484 \nz\nM 1172 3481 \nQ 1172 3119 1398 2916 \nQ 1625 2713 2034 2713 \nQ 2441 2713 2670 2916 \nQ 2900 3119 2900 3481 \nQ 2900 3844 2670 4047 \nQ 2441 4250 2034 4250 \nQ 1625 4250 1398 4047 \nQ 1172 3844 1172 3481 \nz\n\" id=\"DejaVuSans-38\" transform=\"scale(0.015625)\"/>\n       </defs>\n       <use xlink:href=\"#DejaVuSans-38\"/>\n       <use x=\"63.623047\" xlink:href=\"#DejaVuSans-30\"/>\n      </g>\n     </g>\n    </g>\n   </g>\n   <g id=\"patch_3\">\n    <path d=\"M 26.925 227.096997 \nL 26.925 9.656997 \n\" style=\"fill:none;stroke:#000000;stroke-linecap:square;stroke-linejoin:miter;stroke-width:0.8;\"/>\n   </g>\n   <g id=\"patch_4\">\n    <path d=\"M 204.098333 227.096997 \nL 204.098333 9.656997 \n\" style=\"fill:none;stroke:#000000;stroke-linecap:square;stroke-linejoin:miter;stroke-width:0.8;\"/>\n   </g>\n   <g id=\"patch_5\">\n    <path d=\"M 26.925 227.096997 \nL 204.098333 227.096997 \n\" style=\"fill:none;stroke:#000000;stroke-linecap:square;stroke-linejoin:miter;stroke-width:0.8;\"/>\n   </g>\n   <g id=\"patch_6\">\n    <path d=\"M 26.925 9.656997 \nL 204.098333 9.656997 \n\" style=\"fill:none;stroke:#000000;stroke-linecap:square;stroke-linejoin:miter;stroke-width:0.8;\"/>\n   </g>\n  </g>\n </g>\n <defs>\n  <clipPath id=\"pe42ee297fb\">\n   <rect height=\"217.44\" width=\"177.173333\" x=\"26.925\" y=\"9.656997\"/>\n  </clipPath>\n </defs>\n</svg>\n",
                        "text/plain": [
                            "<Figure size 432x288 with 1 Axes>"
                        ]
                    },
                    "metadata": {
                        "needs_background": "light"
                    }
                }
            ],
            "metadata": {}
        },
        {
            "cell_type": "code",
            "execution_count": 13,
            "source": [
                "import rospy\n",
                "from std_msgs.msg import String\n",
                "def talker():\n",
                "    pub = rospy.Publisher('chatter', String, queue_size=10)\n",
                "    rospy.init_node('talker', anonymous=True)\n",
                "    rate = rospy.Rate(10) # 10hz\n",
                "    while not rospy.is_shutdown():\n",
                "        hello_str = \"hello world %s\" % rospy.gect_time()\n",
                "        rospy.loginfo(hello_str)\n",
                "        pub.publish(hello_str)\n",
                "        rate.sleep()\n"
            ],
            "outputs": [],
            "metadata": {}
        },
        {
            "cell_type": "code",
            "execution_count": 9,
            "source": [
                "rospy.get_published_topics()"
            ],
            "outputs": [
                {
                    "output_type": "execute_result",
                    "data": {
                        "text/plain": [
                            "[['/d400/depth/image_rect_raw/compressed', 'sensor_msgs/CompressedImage'],\n",
                            " ['/t265/realsense2_camera_manager/bond', 'bond/Status'],\n",
                            " ['/d400/infra2/image_rect_raw/compressedDepth',\n",
                            "  'sensor_msgs/CompressedImage'],\n",
                            " ['/d400/depth/image_rect_raw/theora/parameter_updates',\n",
                            "  'dynamic_reconfigure/Config'],\n",
                            " ['/d400/aligned_depth_to_color/image_raw/theora/parameter_updates',\n",
                            "  'dynamic_reconfigure/Config'],\n",
                            " ['/d400/gyro/imu_info', 'realsense2_camera/IMUInfo'],\n",
                            " ['/d400/color/image_raw/compressed/parameter_updates',\n",
                            "  'dynamic_reconfigure/Config'],\n",
                            " ['/occupancy', 'nav_msgs/OccupancyGrid'],\n",
                            " ['/d400/aligned_depth_to_infra1/image_raw/compressedDepth',\n",
                            "  'sensor_msgs/CompressedImage'],\n",
                            " ['/t265/accel/sample', 'sensor_msgs/Imu'],\n",
                            " ['/d400/infra1/image_rect_raw/theora', 'theora_image_transport/Packet'],\n",
                            " ['/d400/color/image_raw/compressed', 'sensor_msgs/CompressedImage'],\n",
                            " ['/d400/depth/camera_info', 'sensor_msgs/CameraInfo'],\n",
                            " ['/d400/pointcloud/parameter_descriptions',\n",
                            "  'dynamic_reconfigure/ConfigDescription'],\n",
                            " ['/t265/gyro/imu_info', 'realsense2_camera/IMUInfo'],\n",
                            " ['/d400/aligned_depth_to_color/image_raw', 'sensor_msgs/Image'],\n",
                            " ['/d400/infra2/image_rect_raw/compressed/parameter_updates',\n",
                            "  'dynamic_reconfigure/Config'],\n",
                            " ['/d400/extrinsics/depth_to_infra2', 'realsense2_camera/Extrinsics'],\n",
                            " ['/d400/extrinsics/depth_to_infra1', 'realsense2_camera/Extrinsics'],\n",
                            " ['/d400/aligned_depth_to_color/image_raw/theora/parameter_descriptions',\n",
                            "  'dynamic_reconfigure/ConfigDescription'],\n",
                            " ['/d400/aligned_depth_to_color/image_raw/compressed/parameter_updates',\n",
                            "  'dynamic_reconfigure/Config'],\n",
                            " ['/d400/color/image_raw/compressedDepth', 'sensor_msgs/CompressedImage'],\n",
                            " ['/d400/infra1/image_rect_raw/compressedDepth/parameter_updates',\n",
                            "  'dynamic_reconfigure/Config'],\n",
                            " ['/d400/infra1/image_rect_raw/compressed/parameter_descriptions',\n",
                            "  'dynamic_reconfigure/ConfigDescription'],\n",
                            " ['/t265/tracking_module/parameter_descriptions',\n",
                            "  'dynamic_reconfigure/ConfigDescription'],\n",
                            " ['/d400/realsense2_camera_manager/bond', 'bond/Status'],\n",
                            " ['/d400/infra2/image_rect_raw', 'sensor_msgs/Image'],\n",
                            " ['/d400/infra1/camera_info', 'sensor_msgs/CameraInfo'],\n",
                            " ['/d400/color/image_raw/compressed/parameter_descriptions',\n",
                            "  'dynamic_reconfigure/ConfigDescription'],\n",
                            " ['/t265/odom/sample', 'nav_msgs/Odometry'],\n",
                            " ['/d400/pointcloud/parameter_updates', 'dynamic_reconfigure/Config'],\n",
                            " ['/clicked_point', 'geometry_msgs/PointStamped'],\n",
                            " ['/d400/infra1/image_rect_raw/theora/parameter_descriptions',\n",
                            "  'dynamic_reconfigure/ConfigDescription'],\n",
                            " ['/d400/infra1/image_rect_raw/theora/parameter_updates',\n",
                            "  'dynamic_reconfigure/Config'],\n",
                            " ['/d400/aligned_depth_to_infra1/image_raw/theora/parameter_descriptions',\n",
                            "  'dynamic_reconfigure/ConfigDescription'],\n",
                            " ['/d400/infra2/image_rect_raw/compressedDepth/parameter_descriptions',\n",
                            "  'dynamic_reconfigure/ConfigDescription'],\n",
                            " ['/d400/infra2/image_rect_raw/compressed/parameter_descriptions',\n",
                            "  'dynamic_reconfigure/ConfigDescription'],\n",
                            " ['/d400/infra1/image_rect_raw', 'sensor_msgs/Image'],\n",
                            " ['/d400/infra2/image_rect_raw/theora', 'theora_image_transport/Packet'],\n",
                            " ['/d400/depth/image_rect_raw/compressedDepth', 'sensor_msgs/CompressedImage'],\n",
                            " ['/d400/aligned_depth_to_infra1/image_raw', 'sensor_msgs/Image'],\n",
                            " ['/d400/color/image_raw/theora/parameter_descriptions',\n",
                            "  'dynamic_reconfigure/ConfigDescription'],\n",
                            " ['/d400/accel/sample', 'sensor_msgs/Imu'],\n",
                            " ['/d400/infra2/image_rect_raw/compressed', 'sensor_msgs/CompressedImage'],\n",
                            " ['/d400/depth/image_rect_raw/compressedDepth/parameter_updates',\n",
                            "  'dynamic_reconfigure/Config'],\n",
                            " ['/d400/depth/image_rect_raw/compressed/parameter_updates',\n",
                            "  'dynamic_reconfigure/Config'],\n",
                            " ['/d400/color/image_raw/theora', 'theora_image_transport/Packet'],\n",
                            " ['/d400/depth/image_rect_raw/theora/parameter_descriptions',\n",
                            "  'dynamic_reconfigure/ConfigDescription'],\n",
                            " ['/d400/aligned_depth_to_infra1/image_raw/compressedDepth/parameter_descriptions',\n",
                            "  'dynamic_reconfigure/ConfigDescription'],\n",
                            " ['/d400/color/image_raw', 'sensor_msgs/Image'],\n",
                            " ['/d400/aligned_depth_to_infra1/image_raw/theora',\n",
                            "  'theora_image_transport/Packet'],\n",
                            " ['/d400/infra1/image_rect_raw/compressed', 'sensor_msgs/CompressedImage'],\n",
                            " ['/d400/aligned_depth_to_color/image_raw/compressed/parameter_descriptions',\n",
                            "  'dynamic_reconfigure/ConfigDescription'],\n",
                            " ['/d400/aligned_depth_to_infra1/image_raw/theora/parameter_updates',\n",
                            "  'dynamic_reconfigure/Config'],\n",
                            " ['/d400/infra1/image_rect_raw/compressedDepth',\n",
                            "  'sensor_msgs/CompressedImage'],\n",
                            " ['/tf', 'tf2_msgs/TFMessage'],\n",
                            " ['/d400/extrinsics/depth_to_color', 'realsense2_camera/Extrinsics'],\n",
                            " ['/tf_static', 'tf2_msgs/TFMessage'],\n",
                            " ['/d400/aligned_depth_to_color/image_raw/theora',\n",
                            "  'theora_image_transport/Packet'],\n",
                            " ['/d400/infra1/image_rect_raw/compressedDepth/parameter_descriptions',\n",
                            "  'dynamic_reconfigure/ConfigDescription'],\n",
                            " ['/diagnostics', 'diagnostic_msgs/DiagnosticArray'],\n",
                            " ['/d400/color/image_raw/theora/parameter_updates',\n",
                            "  'dynamic_reconfigure/Config'],\n",
                            " ['/d400/aligned_depth_to_color/image_raw/compressedDepth/parameter_updates',\n",
                            "  'dynamic_reconfigure/Config'],\n",
                            " ['/d400/infra1/image_rect_raw/compressed/parameter_updates',\n",
                            "  'dynamic_reconfigure/Config'],\n",
                            " ['/d400/depth/image_rect_raw/theora', 'theora_image_transport/Packet'],\n",
                            " ['/d400/rgb_camera/parameter_updates', 'dynamic_reconfigure/Config'],\n",
                            " ['/d400/depth/image_rect_raw/compressedDepth/parameter_descriptions',\n",
                            "  'dynamic_reconfigure/ConfigDescription'],\n",
                            " ['/rosout', 'rosgraph_msgs/Log'],\n",
                            " ['/d400/motion_module/parameter_descriptions',\n",
                            "  'dynamic_reconfigure/ConfigDescription'],\n",
                            " ['/d400/infra2/image_rect_raw/theora/parameter_descriptions',\n",
                            "  'dynamic_reconfigure/ConfigDescription'],\n",
                            " ['/d400/color/image_raw/compressedDepth/parameter_descriptions',\n",
                            "  'dynamic_reconfigure/ConfigDescription'],\n",
                            " ['/d400/aligned_depth_to_color/image_raw/compressedDepth',\n",
                            "  'sensor_msgs/CompressedImage'],\n",
                            " ['/d400/infra2/camera_info', 'sensor_msgs/CameraInfo'],\n",
                            " ['/d400/aligned_depth_to_infra1/image_raw/compressed',\n",
                            "  'sensor_msgs/CompressedImage'],\n",
                            " ['/d400/infra2/image_rect_raw/theora/parameter_updates',\n",
                            "  'dynamic_reconfigure/Config'],\n",
                            " ['/d400/stereo_module/parameter_descriptions',\n",
                            "  'dynamic_reconfigure/ConfigDescription'],\n",
                            " ['/d400/color/camera_info', 'sensor_msgs/CameraInfo'],\n",
                            " ['/d400/color/image_raw/compressedDepth/parameter_updates',\n",
                            "  'dynamic_reconfigure/Config'],\n",
                            " ['/d400/aligned_depth_to_infra1/image_raw/compressed/parameter_descriptions',\n",
                            "  'dynamic_reconfigure/ConfigDescription'],\n",
                            " ['/t265/tracking_module/parameter_updates', 'dynamic_reconfigure/Config'],\n",
                            " ['/rosout_agg', 'rosgraph_msgs/Log'],\n",
                            " ['/d400/infra2/image_rect_raw/compressedDepth/parameter_updates',\n",
                            "  'dynamic_reconfigure/Config'],\n",
                            " ['/d400/rgb_camera/parameter_descriptions',\n",
                            "  'dynamic_reconfigure/ConfigDescription'],\n",
                            " ['/d400/aligned_depth_to_infra1/image_raw/compressed/parameter_updates',\n",
                            "  'dynamic_reconfigure/Config'],\n",
                            " ['/d400/aligned_depth_to_infra1/image_raw/compressedDepth/parameter_updates',\n",
                            "  'dynamic_reconfigure/Config'],\n",
                            " ['/move_base_simple/goal', 'geometry_msgs/PoseStamped'],\n",
                            " ['/d400/aligned_depth_to_color/image_raw/compressed',\n",
                            "  'sensor_msgs/CompressedImage'],\n",
                            " ['/d400/stereo_module/parameter_updates', 'dynamic_reconfigure/Config'],\n",
                            " ['/d400/depth/image_rect_raw/compressed/parameter_descriptions',\n",
                            "  'dynamic_reconfigure/ConfigDescription'],\n",
                            " ['/d400/accel/imu_info', 'realsense2_camera/IMUInfo'],\n",
                            " ['/t265/gyro/sample', 'sensor_msgs/Imu'],\n",
                            " ['/d400/aligned_depth_to_infra1/camera_info', 'sensor_msgs/CameraInfo'],\n",
                            " ['/d400/aligned_depth_to_color/image_raw/compressedDepth/parameter_descriptions',\n",
                            "  'dynamic_reconfigure/ConfigDescription'],\n",
                            " ['/initialpose', 'geometry_msgs/PoseWithCovarianceStamped'],\n",
                            " ['/d400/aligned_depth_to_color/camera_info', 'sensor_msgs/CameraInfo'],\n",
                            " ['/d400/gyro/sample', 'sensor_msgs/Imu'],\n",
                            " ['/d400/depth/color/points', 'sensor_msgs/PointCloud2'],\n",
                            " ['/d400/motion_module/parameter_updates', 'dynamic_reconfigure/Config'],\n",
                            " ['/t265/accel/imu_info', 'realsense2_camera/IMUInfo'],\n",
                            " ['/d400/depth/image_rect_raw', 'sensor_msgs/Image']]"
                        ]
                    },
                    "metadata": {},
                    "execution_count": 9
                }
            ],
            "metadata": {}
        },
        {
            "cell_type": "code",
            "execution_count": 5,
            "source": [
                "import skfmm\n",
                "import numpy.ma as ma\n",
                "import numpy as np\n",
                "import matplotlib.pyplot as plt"
            ],
            "outputs": [],
            "metadata": {}
        },
        {
            "cell_type": "code",
            "execution_count": 30,
            "source": [
                "a = 1 - np.eye(10)\n",
                "\n",
                "# for _ in range(10000):\n",
                "#     a[np.random.randint(3, 100), np.random.randint(3, 100)] = 0\n",
                "\n",
                "b = ma.masked_values(a, 0)\n",
                "b"
            ],
            "outputs": [
                {
                    "output_type": "execute_result",
                    "data": {
                        "text/plain": [
                            "masked_array(\n",
                            "  data=[[--, 1.0, 1.0, 1.0, 1.0, 1.0, 1.0, 1.0, 1.0, 1.0],\n",
                            "        [1.0, --, 1.0, 1.0, 1.0, 1.0, 1.0, 1.0, 1.0, 1.0],\n",
                            "        [1.0, 1.0, --, 1.0, 1.0, 1.0, 1.0, 1.0, 1.0, 1.0],\n",
                            "        [1.0, 1.0, 1.0, --, 1.0, 1.0, 1.0, 1.0, 1.0, 1.0],\n",
                            "        [1.0, 1.0, 1.0, 1.0, --, 1.0, 1.0, 1.0, 1.0, 1.0],\n",
                            "        [1.0, 1.0, 1.0, 1.0, 1.0, --, 1.0, 1.0, 1.0, 1.0],\n",
                            "        [1.0, 1.0, 1.0, 1.0, 1.0, 1.0, --, 1.0, 1.0, 1.0],\n",
                            "        [1.0, 1.0, 1.0, 1.0, 1.0, 1.0, 1.0, --, 1.0, 1.0],\n",
                            "        [1.0, 1.0, 1.0, 1.0, 1.0, 1.0, 1.0, 1.0, --, 1.0],\n",
                            "        [1.0, 1.0, 1.0, 1.0, 1.0, 1.0, 1.0, 1.0, 1.0, --]],\n",
                            "  mask=[[ True, False, False, False, False, False, False, False, False,\n",
                            "         False],\n",
                            "        [False,  True, False, False, False, False, False, False, False,\n",
                            "         False],\n",
                            "        [False, False,  True, False, False, False, False, False, False,\n",
                            "         False],\n",
                            "        [False, False, False,  True, False, False, False, False, False,\n",
                            "         False],\n",
                            "        [False, False, False, False,  True, False, False, False, False,\n",
                            "         False],\n",
                            "        [False, False, False, False, False,  True, False, False, False,\n",
                            "         False],\n",
                            "        [False, False, False, False, False, False,  True, False, False,\n",
                            "         False],\n",
                            "        [False, False, False, False, False, False, False,  True, False,\n",
                            "         False],\n",
                            "        [False, False, False, False, False, False, False, False,  True,\n",
                            "         False],\n",
                            "        [False, False, False, False, False, False, False, False, False,\n",
                            "          True]],\n",
                            "  fill_value=0.0)"
                        ]
                    },
                    "metadata": {},
                    "execution_count": 30
                }
            ],
            "metadata": {}
        },
        {
            "cell_type": "code",
            "execution_count": 43,
            "source": [
                "b[0,0] = 0\n",
                "b[0, 1] = 0\n",
                "b[1, 0] = 0\n",
                "b[9, 9] = 0\n",
                "b[8, 9] = 0\n",
                "b[9, 8] = 0\n",
                "b"
            ],
            "outputs": [
                {
                    "output_type": "execute_result",
                    "data": {
                        "text/plain": [
                            "masked_array(\n",
                            "  data=[[0.0, 0.0, 1.0, 1.0, 1.0, 1.0, 1.0, 1.0, 1.0, 1.0],\n",
                            "        [0.0, --, 1.0, 1.0, 1.0, 1.0, 1.0, 1.0, 1.0, 1.0],\n",
                            "        [1.0, 1.0, --, 1.0, 1.0, 1.0, 1.0, 1.0, 1.0, 1.0],\n",
                            "        [1.0, 1.0, 1.0, --, 1.0, 1.0, 1.0, 1.0, 1.0, 1.0],\n",
                            "        [1.0, 1.0, 1.0, 1.0, --, 1.0, 1.0, 1.0, 1.0, 1.0],\n",
                            "        [1.0, 1.0, 1.0, 1.0, 1.0, --, 1.0, 1.0, 1.0, 1.0],\n",
                            "        [1.0, 1.0, 1.0, 1.0, 1.0, 1.0, --, 1.0, 1.0, 1.0],\n",
                            "        [1.0, 1.0, 1.0, 1.0, 1.0, 1.0, 1.0, --, 1.0, 1.0],\n",
                            "        [1.0, 1.0, 1.0, 1.0, 1.0, 1.0, 1.0, 1.0, --, 0.0],\n",
                            "        [1.0, 1.0, 1.0, 1.0, 1.0, 1.0, 1.0, 1.0, 0.0, 0.0]],\n",
                            "  mask=[[False, False, False, False, False, False, False, False, False,\n",
                            "         False],\n",
                            "        [False,  True, False, False, False, False, False, False, False,\n",
                            "         False],\n",
                            "        [False, False,  True, False, False, False, False, False, False,\n",
                            "         False],\n",
                            "        [False, False, False,  True, False, False, False, False, False,\n",
                            "         False],\n",
                            "        [False, False, False, False,  True, False, False, False, False,\n",
                            "         False],\n",
                            "        [False, False, False, False, False,  True, False, False, False,\n",
                            "         False],\n",
                            "        [False, False, False, False, False, False,  True, False, False,\n",
                            "         False],\n",
                            "        [False, False, False, False, False, False, False,  True, False,\n",
                            "         False],\n",
                            "        [False, False, False, False, False, False, False, False,  True,\n",
                            "         False],\n",
                            "        [False, False, False, False, False, False, False, False, False,\n",
                            "         False]],\n",
                            "  fill_value=0.0)"
                        ]
                    },
                    "metadata": {},
                    "execution_count": 43
                }
            ],
            "metadata": {}
        },
        {
            "cell_type": "code",
            "execution_count": 44,
            "source": [
                "# for i in range(100):\n",
                "c = skfmm.distance(b, dx=1)\n",
                "plt.imshow(c)\n",
                "plt.colorbar()\n",
                "c"
            ],
            "outputs": [
                {
                    "output_type": "execute_result",
                    "data": {
                        "text/plain": [
                            "masked_array(\n",
                            "  data=[[0.0, 0.0, 0.6666666666666666, 1.5555555555555556,\n",
                            "         2.5185185185185177, 3.506172839506172, 4.502057613168726,\n",
                            "         5.500685871056244, 6.500228623685416, 7.304814062019506],\n",
                            "        [0.0, --, 1.6666666666666665, 2.316032085580529,\n",
                            "         3.08285189035841, 3.9393356280713805, 4.849872386635389,\n",
                            "         5.79128186792577, 6.5764895491469275, 6.500228623685416],\n",
                            "        [0.6666666666666666, 1.6666666666666665, --, 3.2361909289221873,\n",
                            "         3.8147318978973574, 4.515515645145132, 5.316244104584668,\n",
                            "         6.054558111855545, 5.79128186792577, 5.500685871056244],\n",
                            "        [1.5555555555555556, 2.316032085580529, 3.2361909289221873, --,\n",
                            "         4.725358567077004, 5.267686790038022, 5.919867385149393,\n",
                            "         5.316244104584668, 4.849872386635389, 4.502057613168726],\n",
                            "        [2.5185185185185177, 3.08285189035841, 3.8147318978973574,\n",
                            "         4.725358567077004, --, 5.989815025793357, 5.267686790038022,\n",
                            "         4.515515645145132, 3.9393356280713805, 3.506172839506172],\n",
                            "        [3.506172839506172, 3.9393356280713805, 4.515515645145132,\n",
                            "         5.267686790038022, 5.989815025793357, --, 4.725358567077004,\n",
                            "         3.8147318978973574, 3.08285189035841, 2.5185185185185177],\n",
                            "        [4.502057613168726, 4.849872386635389, 5.316244104584668,\n",
                            "         5.919867385149393, 5.267686790038022, 4.725358567077004, --,\n",
                            "         3.2361909289221873, 2.316032085580529, 1.5555555555555556],\n",
                            "        [5.500685871056244, 5.79128186792577, 6.054558111855545,\n",
                            "         5.316244104584668, 4.515515645145132, 3.8147318978973574,\n",
                            "         3.2361909289221873, --, 1.6666666666666665, 0.6666666666666666],\n",
                            "        [6.500228623685416, 6.5764895491469275, 5.79128186792577,\n",
                            "         4.849872386635389, 3.9393356280713805, 3.08285189035841,\n",
                            "         2.316032085580529, 1.6666666666666665, --, 0.0],\n",
                            "        [7.304814062019506, 6.500228623685416, 5.500685871056244,\n",
                            "         4.502057613168726, 3.506172839506172, 2.5185185185185177,\n",
                            "         1.5555555555555556, 0.6666666666666666, 0.0, 0.0]],\n",
                            "  mask=[[False, False, False, False, False, False, False, False, False,\n",
                            "         False],\n",
                            "        [False,  True, False, False, False, False, False, False, False,\n",
                            "         False],\n",
                            "        [False, False,  True, False, False, False, False, False, False,\n",
                            "         False],\n",
                            "        [False, False, False,  True, False, False, False, False, False,\n",
                            "         False],\n",
                            "        [False, False, False, False,  True, False, False, False, False,\n",
                            "         False],\n",
                            "        [False, False, False, False, False,  True, False, False, False,\n",
                            "         False],\n",
                            "        [False, False, False, False, False, False,  True, False, False,\n",
                            "         False],\n",
                            "        [False, False, False, False, False, False, False,  True, False,\n",
                            "         False],\n",
                            "        [False, False, False, False, False, False, False, False,  True,\n",
                            "         False],\n",
                            "        [False, False, False, False, False, False, False, False, False,\n",
                            "         False]],\n",
                            "  fill_value=1e+20)"
                        ]
                    },
                    "metadata": {},
                    "execution_count": 44
                },
                {
                    "output_type": "display_data",
                    "data": {
                        "image/png": "[encoded data removed]",
                        "text/plain": [
                            "<Figure size 432x288 with 2 Axes>"
                        ]
                    },
                    "metadata": {
                        "needs_background": "light"
                    }
                }
            ],
            "metadata": {}
        },
        {
            "cell_type": "code",
            "execution_count": 57,
            "source": [
                "np.minimum(0, np.inf)"
            ],
            "outputs": [
                {
                    "output_type": "execute_result",
                    "data": {
                        "text/plain": [
                            "0.0"
                        ]
                    },
                    "metadata": {},
                    "execution_count": 57
                }
            ],
            "metadata": {}
        },
        {
            "cell_type": "code",
            "execution_count": 8,
            "source": [
                "from fmm import FMMPlanner\n",
                "import numpy as np\n",
                "\n",
                "p = FMMPlanner(1 - np.eye(10))\n",
                "(p.set_multi_goal((1 - np.eye(10)) == 0)) ** 2\n"
            ],
            "outputs": [
                {
                    "output_type": "execute_result",
                    "data": {
                        "text/plain": [
                            "array([[ 0. ,  0.5,  2. ,  4.5,  8. , 12.5, 18. , 24.5, 32. , 40.5],\n",
                            "       [ 0.5,  0. ,  0.5,  2. ,  4.5,  8. , 12.5, 18. , 24.5, 32. ],\n",
                            "       [ 2. ,  0.5,  0. ,  0.5,  2. ,  4.5,  8. , 12.5, 18. , 24.5],\n",
                            "       [ 4.5,  2. ,  0.5,  0. ,  0.5,  2. ,  4.5,  8. , 12.5, 18. ],\n",
                            "       [ 8. ,  4.5,  2. ,  0.5,  0. ,  0.5,  2. ,  4.5,  8. , 12.5],\n",
                            "       [12.5,  8. ,  4.5,  2. ,  0.5,  0. ,  0.5,  2. ,  4.5,  8. ],\n",
                            "       [18. , 12.5,  8. ,  4.5,  2. ,  0.5,  0. ,  0.5,  2. ,  4.5],\n",
                            "       [24.5, 18. , 12.5,  8. ,  4.5,  2. ,  0.5,  0. ,  0.5,  2. ],\n",
                            "       [32. , 24.5, 18. , 12.5,  8. ,  4.5,  2. ,  0.5,  0. ,  0.5],\n",
                            "       [40.5, 32. , 24.5, 18. , 12.5,  8. ,  4.5,  2. ,  0.5,  0. ]])"
                        ]
                    },
                    "metadata": {},
                    "execution_count": 8
                }
            ],
            "metadata": {}
        },
        {
            "cell_type": "code",
            "execution_count": 1,
            "source": [
                "import numpy as np\n",
                "import matplotlib.pyplot as plt\n",
                "\n",
                "fig, ax = plt.subplots()\n",
                "ax.imshow(np.eye(4))"
            ],
            "outputs": [
                {
                    "output_type": "execute_result",
                    "data": {
                        "text/plain": [
                            "<matplotlib.image.AxesImage at 0x7f87c42b8850>"
                        ]
                    },
                    "metadata": {},
                    "execution_count": 1
                },
                {
                    "output_type": "display_data",
                    "data": {
                        "image/png": "[encoded data removed]",
                        "text/plain": [
                            "<Figure size 432x288 with 1 Axes>"
                        ]
                    },
                    "metadata": {
                        "needs_background": "light"
                    }
                }
            ],
            "metadata": {}
        },
        {
            "cell_type": "code",
            "execution_count": null,
            "source": [],
            "outputs": [],
            "metadata": {}
        }
    ],
    "metadata": {
        "orig_nbformat": 4,
        "language_info": {
            "name": "python",
            "version": "3.8.11",
            "mimetype": "text/x-python",
            "codemirror_mode": {
                "name": "ipython",
                "version": 3
            },
            "pygments_lexer": "ipython3",
            "nbconvert_exporter": "python",
            "file_extension": ".py"
        },
        "kernelspec": {
            "name": "python3",
            "display_name": "Python 3.8.11 64-bit ('base': conda)"
        },
        "interpreter": {
            "hash": "f24fb15c553aea3e3dc3d1ed4a7dca40f8ef7784f5088703236da634db8fb2ed"
        }
    },
    "nbformat": 4,
    "nbformat_minor": 2
}